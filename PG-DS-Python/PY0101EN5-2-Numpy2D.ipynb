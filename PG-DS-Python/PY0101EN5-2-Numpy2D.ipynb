{
 "cells": [
  {
   "cell_type": "markdown",
   "metadata": {},
   "source": [
    "# 2D Numpy in Python"
   ]
  },
  {
   "cell_type": "markdown",
   "metadata": {},
   "source": [
    "-----"
   ]
  },
  {
   "cell_type": "code",
   "execution_count": null,
   "metadata": {},
   "outputs": [],
   "source": [
    "# Import the libraries\n",
    "\n",
    "import numpy as np \n",
    "import matplotlib.pyplot as plt"
   ]
  },
  {
   "cell_type": "markdown",
   "metadata": {},
   "source": [
    "# Create a 2D Numpy Array"
   ]
  },
  {
   "cell_type": "code",
   "execution_count": 4,
   "metadata": {},
   "outputs": [
    {
     "name": "stdout",
     "output_type": "stream",
     "text": [
      "[[11, 12, 13], [21, 22, 23], [31, 32, 33]]\n",
      "[[11 12 13]\n",
      " [21 22 23]\n",
      " [31 32 33]]\n"
     ]
    }
   ],
   "source": [
    "# Create a list\n",
    "\n",
    "a = [[11, 12, 13], [21, 22, 23], [31, 32, 33]]\n",
    "print(a)\n",
    "\n",
    "\n",
    "# Convert list to Numpy Array\n",
    "# Every element is the same type\n",
    "\n",
    "A = np.array(a)\n",
    "print(A)"
   ]
  },
  {
   "cell_type": "markdown",
   "metadata": {},
   "source": [
    "# Other Attributes:size,number of dimensions,shape"
   ]
  },
  {
   "cell_type": "code",
   "execution_count": 7,
   "metadata": {},
   "outputs": [
    {
     "name": "stdout",
     "output_type": "stream",
     "text": [
      "9\n",
      "2\n",
      "(3, 3)\n"
     ]
    }
   ],
   "source": [
    "# Show the numpy array size\n",
    "\n",
    "print(A.size)\n",
    "\n",
    "# Show the numpy array dimensions\n",
    "\n",
    "print(A.ndim)\n",
    "\n",
    "# Show the numpy array shape\n",
    "\n",
    "print(A.shape)"
   ]
  },
  {
   "cell_type": "markdown",
   "metadata": {},
   "source": [
    "# Accessing different elements of a Numpy Array"
   ]
  },
  {
   "cell_type": "code",
   "execution_count": 13,
   "metadata": {},
   "outputs": [
    {
     "name": "stdout",
     "output_type": "stream",
     "text": [
      "23\n",
      "23\n",
      "11\n",
      "[11 12]\n",
      "[13 23]\n"
     ]
    }
   ],
   "source": [
    "# Access the element on the second row and third column\n",
    "\n",
    "print(A[1, 2])\n",
    "\n",
    "# Access the element on the second row and third column\n",
    "\n",
    "print(A[1][2])\n",
    "\n",
    "# Access the element on the first row and first column\n",
    "\n",
    "print(A[0][0])\n",
    "\n",
    "# Access the element on the first row and first and second columns\n",
    "\n",
    "print(A[0][0:2])\n",
    "\n",
    "# Access the element on the first and second rows and third column\n",
    "\n",
    "print(A[0:2, 2])\n"
   ]
  },
  {
   "cell_type": "markdown",
   "metadata": {},
   "source": [
    "# Basic Operations"
   ]
  },
  {
   "cell_type": "code",
   "execution_count": 33,
   "metadata": {},
   "outputs": [
    {
     "name": "stdout",
     "output_type": "stream",
     "text": [
      "Add X and Y is :\n",
      " [[3 1]\n",
      " [1 3]]\n",
      "\n",
      "\n",
      "Multiply Y with 2 is :\n",
      "  [[4 2]\n",
      " [2 4]]\n",
      "\n",
      "\n",
      "Multiply X with Y is :\n",
      " [[2 0]\n",
      " [0 2]]\n",
      "\n",
      "\n",
      "The dot product is :\n",
      " [[0 2]\n",
      " [0 2]]\n",
      "\n",
      "\n",
      "Calculate the sine of C :\n",
      " [[0.14112001 0.84147098]\n",
      " [0.84147098 0.14112001]]\n",
      "\n",
      "\n",
      "[[1 1]\n",
      " [2 2]\n",
      " [3 3]]\n",
      "The  the transposed matrix of E is :\n",
      " [[1 2 3]\n",
      " [1 2 3]]\n"
     ]
    }
   ],
   "source": [
    "# Create a numpy array X\n",
    "\n",
    "X = np.array([[1, 0], [0, 1]])\n",
    "\n",
    "# Create a numpy array Y\n",
    "\n",
    "Y = np.array([[2, 1], [1, 2]])\n",
    "\n",
    "# Add X and Y\n",
    "\n",
    "Z = X + Y\n",
    "print('Add X and Y is :\\n',Z)\n",
    "print('\\n')\n",
    "\n",
    "\n",
    "# Create a numpy array Y\n",
    "\n",
    "R = np.array([[2, 1], [1, 2]]) \n",
    "\n",
    "# Multiply R with 2\n",
    "\n",
    "K = 2 * R\n",
    "print('Multiply Y with 2 is :\\n ',K)\n",
    "print('\\n')\n",
    "\n",
    "# Create a numpy array Y\n",
    "\n",
    "M = np.array([[2, 1], [1, 2]]) \n",
    "\n",
    "# Create a numpy array X\n",
    "\n",
    "W = np.array([[1, 0], [0, 1]]) \n",
    "\n",
    "# Multiply M with W\n",
    "\n",
    "J = M * W\n",
    "print('Multiply X with Y is :\\n',J)\n",
    "print('\\n')\n",
    "\n",
    "\n",
    "# Create a matrix A\n",
    "\n",
    "A = np.array([[0, 1, 1], [1, 0, 1]])\n",
    "\n",
    "# Create a matrix B\n",
    "\n",
    "B = np.array([[1, 1], [1, 1], [-1, 1]])\n",
    "\n",
    "# Calculate the dot product\n",
    "\n",
    "C = np.dot(A,B)\n",
    "\n",
    "print('The dot product is :\\n',C)\n",
    "print('\\n')\n",
    "\n",
    "# Calculate the sine of C\n",
    "\n",
    "print('Calculate the sine of C :\\n',np.sin(Z))\n",
    "print('\\n')\n",
    "\n",
    "\n",
    "# Create a matrix C\n",
    "\n",
    "E = np.array([[1,1],[2,2],[3,3]])\n",
    "print(E)\n",
    "\n",
    "# Get the transposed of E\n",
    "\n",
    "print('The  the transposed matrix of E is :\\n',E.T)\n",
    "\n",
    "\n",
    "\n"
   ]
  },
  {
   "cell_type": "markdown",
   "metadata": {},
   "source": [
    "-----"
   ]
  },
  {
   "cell_type": "markdown",
   "metadata": {},
   "source": [
    "-------"
   ]
  },
  {
   "cell_type": "code",
   "execution_count": null,
   "metadata": {},
   "outputs": [],
   "source": []
  }
 ],
 "metadata": {
  "kernelspec": {
   "display_name": "Python 3",
   "language": "python",
   "name": "python3"
  },
  "language_info": {
   "codemirror_mode": {
    "name": "ipython",
    "version": 3
   },
   "file_extension": ".py",
   "mimetype": "text/x-python",
   "name": "python",
   "nbconvert_exporter": "python",
   "pygments_lexer": "ipython3",
   "version": "3.7.6"
  }
 },
 "nbformat": 4,
 "nbformat_minor": 4
}

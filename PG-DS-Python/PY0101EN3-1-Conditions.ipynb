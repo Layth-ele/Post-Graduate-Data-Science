{
 "cells": [
  {
   "cell_type": "code",
   "execution_count": 1,
   "metadata": {},
   "outputs": [],
   "source": [
    "#Conditions in Python"
   ]
  },
  {
   "cell_type": "markdown",
   "metadata": {},
   "source": [
    "--------"
   ]
  },
  {
   "cell_type": "code",
   "execution_count": 8,
   "metadata": {},
   "outputs": [
    {
     "name": "stdout",
     "output_type": "stream",
     "text": [
      "check if a == 6 :  False\n",
      "check if i > 5 :  True\n",
      "check if j > 5 :  False\n",
      "check if k != 6 :  True\n",
      "check if m != 6 :  False\n"
     ]
    }
   ],
   "source": [
    "# Condition Equal\n",
    "\n",
    "a = 5\n",
    "print('check if a == 6 : ' ,a == 6)\n",
    "\n",
    "# Greater than Sign\n",
    "\n",
    "i = 6\n",
    "\n",
    "print('check if i > 5 : ' ,i > 5)\n",
    "\n",
    "# Greater than Sign\n",
    "\n",
    "j = 2\n",
    "print('check if j > 5 : ' ,j > 5)\n",
    "\n",
    "\n",
    "# Inequality Sign\n",
    "\n",
    "k = 2\n",
    "print('check if k != 6 : ' ,k != 6)\n",
    "\n",
    "# Inequality Sign\n",
    "\n",
    "m = 6\n",
    "print('check if m != 6 : ' ,m != 6)\n",
    "\n",
    "\n",
    "\n"
   ]
  },
  {
   "cell_type": "code",
   "execution_count": 15,
   "metadata": {},
   "outputs": [
    {
     "name": "stdout",
     "output_type": "stream",
     "text": [
      "check if \"ACDC\" equal to \"Michael Jackson\" :  False\n",
      "check if \"ACDC\" not equal to \"Michael Jackson\" :  True\n",
      "True\n",
      "True\n"
     ]
    }
   ],
   "source": [
    "# Use Equality sign to compare the strings\n",
    "\n",
    "\"ACDC\" == \"Michael Jackson\"\n",
    "print('check if \"ACDC\" equal to \"Michael Jackson\" : ' ,\"ACDC\" == \"Michael Jackson\")\n",
    "\n",
    "\n",
    "\"ACDC\" != \"Michael Jackson\"\n",
    "print('check if \"ACDC\" not equal to \"Michael Jackson\" : ' ,\"ACDC\" != \"Michael Jackson\")\n",
    "\n",
    "\n",
    "# Compare characters\n",
    "\n",
    "print('B' > 'A')\n",
    "\n",
    "# Compare characters\n",
    "\n",
    "print('BA' > 'AB')"
   ]
  },
  {
   "cell_type": "code",
   "execution_count": 16,
   "metadata": {},
   "outputs": [],
   "source": [
    "#Branching"
   ]
  },
  {
   "cell_type": "markdown",
   "metadata": {},
   "source": [
    "-------"
   ]
  },
  {
   "cell_type": "code",
   "execution_count": 19,
   "metadata": {},
   "outputs": [
    {
     "name": "stdout",
     "output_type": "stream",
     "text": [
      "you can enter\n",
      "move on\n",
      "go see Meat Loaf\n",
      "move on\n",
      "go see Pink Floyd\n",
      "move on\n"
     ]
    }
   ],
   "source": [
    "# If statement example\n",
    "\n",
    "age = 19\n",
    "#age = 18\n",
    "\n",
    "#expression that can be true or false\n",
    "if age > 18:\n",
    "    \n",
    "    #within an indent, we have the expression that is run if the condition is true\n",
    "    print(\"you can enter\" )\n",
    "\n",
    "#The statements after the if statement will run regardless if the condition is true or false \n",
    "print(\"move on\")\n",
    "\n",
    "# Else statement example\n",
    "\n",
    "age = 18\n",
    "# age = 19\n",
    "\n",
    "if age > 18:\n",
    "    print(\"you can enter\" )\n",
    "else:\n",
    "    print(\"go see Meat Loaf\" )\n",
    "    \n",
    "print(\"move on\")\n",
    "\n",
    "# Elif statment example\n",
    "\n",
    "age = 18\n",
    "\n",
    "if age > 18:\n",
    "    print(\"you can enter\" )\n",
    "elif age == 18:\n",
    "    print(\"go see Pink Floyd\")\n",
    "else:\n",
    "    print(\"go see Meat Loaf\" )\n",
    "    \n",
    "print(\"move on\")"
   ]
  },
  {
   "cell_type": "code",
   "execution_count": 21,
   "metadata": {},
   "outputs": [
    {
     "name": "stdout",
     "output_type": "stream",
     "text": [
      "do something..\n",
      "Album year is greater than 1980\n",
      "do something..\n"
     ]
    }
   ],
   "source": [
    "# Condition statement example\n",
    "\n",
    "album_year = 1983\n",
    "album_year = 1970\n",
    "\n",
    "if album_year > 1980:\n",
    "    print(\"Album year is greater than 1980\")\n",
    "    \n",
    "print('do something..')\n",
    "\n",
    "# Condition statement example\n",
    "\n",
    "album_year = 1983\n",
    "#album_year = 1970\n",
    "\n",
    "if album_year > 1980:\n",
    "    print(\"Album year is greater than 1980\")\n",
    "else:\n",
    "    print(\"less than 1980\")\n",
    "\n",
    "print('do something..')"
   ]
  },
  {
   "cell_type": "code",
   "execution_count": 22,
   "metadata": {},
   "outputs": [],
   "source": [
    "#Logical operators¶"
   ]
  },
  {
   "cell_type": "code",
   "execution_count": 25,
   "metadata": {},
   "outputs": [
    {
     "name": "stdout",
     "output_type": "stream",
     "text": [
      "Album year was in between 1980 and 1989\n",
      "\n",
      "Do Stuff..\n",
      "Album was not made in the 1980's\n",
      "Album year is not 1984\n"
     ]
    }
   ],
   "source": [
    "# Condition statement example\n",
    "\n",
    "album_year = 1980\n",
    "\n",
    "if(album_year > 1979) and (album_year < 1990):\n",
    "    print (\"Album year was in between 1980 and 1989\")\n",
    "    \n",
    "print(\"\")\n",
    "print(\"Do Stuff..\")\n",
    "\n",
    "# Condition statement example\n",
    "\n",
    "album_year = 1990\n",
    "\n",
    "if(album_year < 1980) or (album_year > 1989):\n",
    "    print (\"Album was not made in the 1980's\")\n",
    "else:\n",
    "    print(\"The Album was made in the 1980's \")\n",
    "    \n",
    "# Condition statement example\n",
    "\n",
    "album_year = 1983\n",
    "\n",
    "if not (album_year == '1984'):\n",
    "    print (\"Album year is not 1984\")"
   ]
  },
  {
   "cell_type": "markdown",
   "metadata": {},
   "source": [
    "------"
   ]
  },
  {
   "cell_type": "markdown",
   "metadata": {},
   "source": [
    "-------"
   ]
  },
  {
   "cell_type": "markdown",
   "metadata": {},
   "source": [
    "-------"
   ]
  },
  {
   "cell_type": "code",
   "execution_count": 26,
   "metadata": {},
   "outputs": [],
   "source": [
    "#Quiz on Conditions"
   ]
  },
  {
   "cell_type": "code",
   "execution_count": 43,
   "metadata": {},
   "outputs": [
    {
     "name": "stdout",
     "output_type": "stream",
     "text": [
      "This album is Amazing!\n",
      "This album is Ok\n",
      "The Album was made in the 1991 \n"
     ]
    }
   ],
   "source": [
    "#Write an if statement to determine if an album had a rating greater than 8. \n",
    "#Test it using the rating for the album “Back in Black” that had a rating of 8.5.\n",
    "#If the statement is true print \"This album is Amazing!\"\n",
    "\n",
    "album_rating = 8.5\n",
    "\n",
    "if(album_rating > 8):\n",
    "    print (\"This album is Amazing!\")\n",
    "\n",
    "#Write an if-else statement that performs the following. If the rating is larger then eight print “this album is amazing”.\n",
    "#If the rating is less than or equal to 8 print “this album is ok”.\n",
    "\n",
    "album_rating = 7\n",
    "\n",
    "if(album_rating > 8):\n",
    "    print (\"This album is Amazing!\")\n",
    "else:\n",
    "    print (\"This album is Ok\")\n",
    "    \n",
    "\n",
    "#Write an if statement to determine if an album came out before 1980 or in the years: 1991 or 1993.\n",
    "#If the condition is true print out the year the album came out.\n",
    "\n",
    "\n",
    "album_year = 1991\n",
    "\n",
    "if(album_year < 1980):\n",
    "    print (\"Album was not made before 1980 \")\n",
    "elif album_year == 1991:\n",
    "    print(\"The Album was made in the 1991 \")\n",
    "elif album_year == 1993:\n",
    "    print(\"The Album was made in the 1993 \")\n",
    "else: \n",
    "    print(\"Not enough data\")\n"
   ]
  },
  {
   "cell_type": "markdown",
   "metadata": {},
   "source": [
    "-----"
   ]
  },
  {
   "cell_type": "markdown",
   "metadata": {},
   "source": [
    "------"
   ]
  },
  {
   "cell_type": "markdown",
   "metadata": {},
   "source": [
    "-----"
   ]
  },
  {
   "cell_type": "code",
   "execution_count": null,
   "metadata": {},
   "outputs": [],
   "source": []
  },
  {
   "cell_type": "markdown",
   "metadata": {},
   "source": [
    "-------------------------------------------ALL DONE ^_^--------------------------------------------------"
   ]
  }
 ],
 "metadata": {
  "kernelspec": {
   "display_name": "Python 3",
   "language": "python",
   "name": "python3"
  },
  "language_info": {
   "codemirror_mode": {
    "name": "ipython",
    "version": 3
   },
   "file_extension": ".py",
   "mimetype": "text/x-python",
   "name": "python",
   "nbconvert_exporter": "python",
   "pygments_lexer": "ipython3",
   "version": "3.7.6"
  }
 },
 "nbformat": 4,
 "nbformat_minor": 4
}

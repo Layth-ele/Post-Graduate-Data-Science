{
 "cells": [
  {
   "cell_type": "markdown",
   "metadata": {},
   "source": [
    "# 1D Numpy in Python"
   ]
  },
  {
   "cell_type": "markdown",
   "metadata": {},
   "source": [
    "-----"
   ]
  },
  {
   "cell_type": "code",
   "execution_count": 58,
   "metadata": {},
   "outputs": [],
   "source": [
    "# Import the libraries\n",
    "\n",
    "import time \n",
    "import sys\n",
    "import numpy as np \n",
    "\n",
    "import matplotlib.pyplot as plt\n",
    "%matplotlib inline  "
   ]
  },
  {
   "cell_type": "code",
   "execution_count": 57,
   "metadata": {},
   "outputs": [],
   "source": [
    "# Plotting functions\n",
    "\n",
    "def Plotvec1(u, z, v):\n",
    "    \n",
    "    ax = plt.axes()\n",
    "    ax.arrow(0, 0, *u, head_width=0.05, color='r', head_length=0.1)\n",
    "    plt.text(*(u + 0.1), 'u')\n",
    "    \n",
    "    ax.arrow(0, 0, *v, head_width=0.05, color='b', head_length=0.1)\n",
    "    plt.text(*(v + 0.1), 'v')\n",
    "    ax.arrow(0, 0, *z, head_width=0.05, head_length=0.1)\n",
    "    plt.text(*(z + 0.1), 'z')\n",
    "    plt.ylim(-2, 2)\n",
    "    plt.xlim(-2, 2)\n",
    "\n",
    "def Plotvec2(a,b):\n",
    "    ax = plt.axes()\n",
    "    ax.arrow(0, 0, *a, head_width=0.05, color ='r', head_length=0.1)\n",
    "    plt.text(*(a + 0.1), 'a')\n",
    "    ax.arrow(0, 0, *b, head_width=0.05, color ='b', head_length=0.1)\n",
    "    plt.text(*(b + 0.1), 'b')\n",
    "    plt.ylim(-2, 2)\n",
    "    plt.xlim(-2, 2)"
   ]
  },
  {
   "cell_type": "code",
   "execution_count": 4,
   "metadata": {},
   "outputs": [
    {
     "name": "stdout",
     "output_type": "stream",
     "text": [
      "a[0]: 0\n",
      "a[1]: 1\n",
      "a[2]: two\n",
      "a[3]: 3\n",
      "a[4]: 4\n"
     ]
    }
   ],
   "source": [
    "# Create a python list\n",
    "\n",
    "a = [\"0\", 1, \"two\", \"3\", 4]\n",
    "\n",
    "# Print each element\n",
    "\n",
    "print(\"a[0]:\", a[0])\n",
    "print(\"a[1]:\", a[1])\n",
    "print(\"a[2]:\", a[2])\n",
    "print(\"a[3]:\", a[3])\n",
    "print(\"a[4]:\", a[4])"
   ]
  },
  {
   "cell_type": "markdown",
   "metadata": {},
   "source": [
    "# What is Numpy?"
   ]
  },
  {
   "cell_type": "code",
   "execution_count": 7,
   "metadata": {},
   "outputs": [
    {
     "name": "stdout",
     "output_type": "stream",
     "text": [
      "[0 1 2 3 4]\n",
      "a[0]: 0\n",
      "a[1]: 1\n",
      "a[2]: 2\n",
      "a[3]: 3\n",
      "a[4]: 4\n"
     ]
    }
   ],
   "source": [
    "# import numpy library\n",
    "\n",
    "import numpy as np \n",
    "\n",
    "# Create a numpy array\n",
    "\n",
    "a = np.array([0, 1, 2, 3, 4])\n",
    "print(a)\n",
    "\n",
    "\n",
    "# Print each element\n",
    "\n",
    "print(\"a[0]:\", a[0])\n",
    "print(\"a[1]:\", a[1])\n",
    "print(\"a[2]:\", a[2])\n",
    "print(\"a[3]:\", a[3])\n",
    "print(\"a[4]:\", a[4])"
   ]
  },
  {
   "cell_type": "markdown",
   "metadata": {},
   "source": [
    "# Type"
   ]
  },
  {
   "cell_type": "code",
   "execution_count": 16,
   "metadata": {},
   "outputs": [
    {
     "name": "stdout",
     "output_type": "stream",
     "text": [
      "<class 'numpy.ndarray'>\n",
      "int64\n",
      "[  3.1   11.02   6.2  213.2    5.2 ]\n",
      "<class 'numpy.ndarray'>\n",
      "float64\n"
     ]
    }
   ],
   "source": [
    "# Check the type of the array\n",
    "\n",
    "print(type(a))\n",
    "\n",
    "# Check the type of the values stored in numpy array\n",
    "\n",
    "print(a.dtype)\n",
    "\n",
    "# Create a numpy array\n",
    "\n",
    "b = np.array([3.1, 11.02, 6.2, 213.2, 5.2])\n",
    "\n",
    "print(b)\n",
    "\n",
    "# Check the type of array\n",
    "\n",
    "print(type(b))\n",
    "\n",
    "# Check the value type\n",
    "\n",
    "print(b.dtype)"
   ]
  },
  {
   "cell_type": "markdown",
   "metadata": {},
   "source": [
    "# Assign value"
   ]
  },
  {
   "cell_type": "code",
   "execution_count": 19,
   "metadata": {},
   "outputs": [
    {
     "name": "stdout",
     "output_type": "stream",
     "text": [
      "[20  1  2  3  4]\n",
      "[100   1   2   3   4]\n",
      "[100   1   2   3   0]\n"
     ]
    }
   ],
   "source": [
    "# Create numpy array\n",
    "\n",
    "c = np.array([20, 1, 2, 3, 4])\n",
    "print(c)\n",
    "\n",
    "# Assign the first element to 100\n",
    "\n",
    "c[0] = 100\n",
    "print(c)\n",
    "\n",
    "# Assign the 5th element to 0\n",
    "\n",
    "c[4] = 0\n",
    "print(c)"
   ]
  },
  {
   "cell_type": "markdown",
   "metadata": {},
   "source": [
    "# Slicing"
   ]
  },
  {
   "cell_type": "code",
   "execution_count": 21,
   "metadata": {},
   "outputs": [
    {
     "name": "stdout",
     "output_type": "stream",
     "text": [
      "[1 2 3]\n",
      "[100   1   2 300 400]\n"
     ]
    }
   ],
   "source": [
    "# Slicing the numpy array\n",
    "\n",
    "d = c[1:4]\n",
    "print(d)\n",
    "\n",
    "\n",
    "# Set the fourth element and fifth element to 300 and 400\n",
    "\n",
    "c[3:5] = 300, 400\n",
    "print(c)"
   ]
  },
  {
   "cell_type": "markdown",
   "metadata": {},
   "source": [
    "# Assign Value with List"
   ]
  },
  {
   "cell_type": "code",
   "execution_count": 25,
   "metadata": {},
   "outputs": [
    {
     "name": "stdout",
     "output_type": "stream",
     "text": [
      "[100   2 300]\n",
      "[100000      1 100000 100000    400]\n"
     ]
    }
   ],
   "source": [
    "# Create the index list\n",
    "\n",
    "select = [0, 2, 3]\n",
    "\n",
    "# Use List to select elements\n",
    "\n",
    "d = c[select]\n",
    "print(d)\n",
    "\n",
    "# Assign the specified elements to new value\n",
    "\n",
    "c[select] = 100000\n",
    "print(c)"
   ]
  },
  {
   "cell_type": "markdown",
   "metadata": {},
   "source": [
    "# Other Attributes:size,number of dimensions,shape"
   ]
  },
  {
   "cell_type": "code",
   "execution_count": 53,
   "metadata": {},
   "outputs": [
    {
     "name": "stdout",
     "output_type": "stream",
     "text": [
      "My array :  [0 1 2 3 4]\n",
      "\n",
      "\n",
      "size is :  5\n",
      "\n",
      "\n",
      "number of dimensions is :  1\n",
      "\n",
      "\n",
      "shape is :  (5,)\n"
     ]
    }
   ],
   "source": [
    "# Create a numpy array\n",
    "\n",
    "a = np.array([0, 1, 2, 3, 4])\n",
    "print('My array : ',a)\n",
    "print('\\n')\n",
    "\n",
    "# Get the size of numpy array\n",
    "\n",
    "print('size is : ' , a.size)\n",
    "print('\\n')\n",
    "\n",
    "\n",
    "# Get the number of dimensions of numpy array\n",
    "\n",
    "print('number of dimensions is : ' , a.ndim)\n",
    "print('\\n')\n",
    "\n",
    "\n",
    "# Get the shape/size of numpy array\n",
    "\n",
    "print('shape is : ' ,a.shape)"
   ]
  },
  {
   "cell_type": "markdown",
   "metadata": {},
   "source": [
    "# Mean and Standard deviation"
   ]
  },
  {
   "cell_type": "code",
   "execution_count": 50,
   "metadata": {},
   "outputs": [
    {
     "name": "stdout",
     "output_type": "stream",
     "text": [
      "My array :  [ 1 -1  1 -1]\n",
      "\n",
      "\n",
      "the mean is :  0.0\n",
      "\n",
      "\n",
      "standard_deviation :  1.0\n",
      "\n",
      "\n"
     ]
    }
   ],
   "source": [
    "# Create a numpy array\n",
    "\n",
    "c = np.array([1, -1, 1, -1])\n",
    "\n",
    "print('My array : ' ,m)\n",
    "print('\\n')\n",
    "\n",
    "\n",
    "# Get the mean of numpy array\n",
    "\n",
    "mean = m.mean()\n",
    "print('the mean is : ' , mean)\n",
    "print('\\n')\n",
    "\n",
    "\n",
    "# Get the standard deviation of numpy array\n",
    "\n",
    "standard_deviation=m.std()\n",
    "print('standard_deviation : ' , standard_deviation)\n",
    "print('\\n')\n"
   ]
  },
  {
   "cell_type": "markdown",
   "metadata": {
    "tags": []
   },
   "source": [
    "# Max and Min"
   ]
  },
  {
   "cell_type": "code",
   "execution_count": 51,
   "metadata": {},
   "outputs": [
    {
     "name": "stdout",
     "output_type": "stream",
     "text": [
      "My array:  [-1  2  3  4  5]\n",
      "\n",
      "\n",
      "the biggest value in the numpy array :  5\n",
      "\n",
      "\n",
      "the smallest value in the numpy array :  -1\n"
     ]
    }
   ],
   "source": [
    "# Create a numpy array\n",
    "\n",
    "b = np.array([-1, 2, 3, 4, 5])\n",
    "print('My array: ' ,b)\n",
    "print('\\n')\n",
    "\n",
    "\n",
    "# Get the biggest value in the numpy array\n",
    "\n",
    "max_b = b.max()\n",
    "print('the biggest value in the numpy array : ',max_b)\n",
    "print('\\n')\n",
    "\n",
    "# Get the smallest value in the numpy array\n",
    "\n",
    "min_b = b.min()\n",
    "print('the smallest value in the numpy array : ',min_b)\n"
   ]
  },
  {
   "cell_type": "markdown",
   "metadata": {},
   "source": [
    "# Numpy Array Operations"
   ]
  },
  {
   "cell_type": "code",
   "execution_count": 62,
   "metadata": {},
   "outputs": [
    {
     "name": "stdout",
     "output_type": "stream",
     "text": [
      "[1 0]\n",
      "[0 1]\n",
      "[1 1]\n"
     ]
    },
    {
     "data": {
      "image/png": "[encoded data removed]",
      "text/plain": [
       "<Figure size 432x288 with 1 Axes>"
      ]
     },
     "metadata": {
      "needs_background": "light"
     },
     "output_type": "display_data"
    }
   ],
   "source": [
    "u = np.array([1, 0])\n",
    "v = np.array([0, 1])\n",
    "\n",
    "# Numpy Array Addition\n",
    "\n",
    "z = u + v\n",
    "\n",
    "print(u)\n",
    "print(v)\n",
    "print(z)\n",
    "\n",
    "# Plot numpy arrays\n",
    "\n",
    "Plotvec1(u, z, v)\n"
   ]
  },
  {
   "cell_type": "markdown",
   "metadata": {},
   "source": [
    "# Array Multiplication"
   ]
  },
  {
   "cell_type": "code",
   "execution_count": 66,
   "metadata": {},
   "outputs": [
    {
     "name": "stdout",
     "output_type": "stream",
     "text": [
      "[1 2]\n",
      "[2 4]\n"
     ]
    }
   ],
   "source": [
    "# Create a numpy array\n",
    "\n",
    "y = np.array([1, 2])\n",
    "print(y)\n",
    "\n",
    "z = 2 * y\n",
    "print(z)"
   ]
  },
  {
   "cell_type": "markdown",
   "metadata": {},
   "source": [
    "# Product of Two Numpy Arrays"
   ]
  },
  {
   "cell_type": "code",
   "execution_count": 77,
   "metadata": {},
   "outputs": [
    {
     "name": "stdout",
     "output_type": "stream",
     "text": [
      "[3 2]\n",
      "[1 2]\n",
      "[3 4]\n",
      "Calculate the dot product is : 7\n",
      "add 1 to array [1 2] : [2 3]\n"
     ]
    }
   ],
   "source": [
    "# Create a numpy array\n",
    "\n",
    "u = np.array([1, 2])\n",
    "\n",
    "# Create a numpy array\n",
    "\n",
    "v = np.array([3, 2])\n",
    "\n",
    "# Calculate the production of two numpy arrays\n",
    "\n",
    "z = u * v\n",
    "\n",
    "print(v)\n",
    "print(u)\n",
    "print(z)\n",
    "\n",
    "\n",
    "#Dot Product\n",
    "\n",
    "# Calculate the dot product\n",
    "\n",
    "print('Calculate the dot product is :' ,np.dot(u, v))\n",
    "\n",
    "#Adding Constant to a Numpy Array\n",
    "\n",
    "# Add the constant to array\n",
    "\n",
    "print('add 1 to array [1 2] :' , u + 1)\n",
    "\n"
   ]
  },
  {
   "cell_type": "markdown",
   "metadata": {},
   "source": [
    "# Mathematical Functions"
   ]
  },
  {
   "cell_type": "code",
   "execution_count": 89,
   "metadata": {},
   "outputs": [
    {
     "name": "stdout",
     "output_type": "stream",
     "text": [
      "Π value using numpy function :  3.141592653589793\n",
      "\n",
      "\n",
      "[0.         1.57079633 3.14159265]\n",
      "\n",
      "\n",
      "the sin of each elements : [0.0000000e+00 1.0000000e+00 1.2246468e-16]\n"
     ]
    }
   ],
   "source": [
    "# The value of pie\n",
    "\n",
    "print ('Π value using numpy function : ',np.pi)\n",
    "print('\\n')\n",
    "\n",
    "\n",
    "# Create the numpy array in radians\n",
    "\n",
    "x = np.array([0, np.pi/2 , np.pi])\n",
    "\n",
    "print(x)\n",
    "print('\\n')\n",
    "\n",
    "\n",
    "# Calculate the sin of each elements\n",
    "\n",
    "y = np.sin(x)\n",
    "print('the sin of each elements :',y)"
   ]
  },
  {
   "cell_type": "markdown",
   "metadata": {},
   "source": [
    "# Linspace"
   ]
  },
  {
   "cell_type": "code",
   "execution_count": 105,
   "metadata": {},
   "outputs": [
    {
     "name": "stdout",
     "output_type": "stream",
     "text": [
      "array within [-2, 2] and 5 elements : [-2. -1.  0.  1.  2.]\n",
      "\n",
      "\n",
      "array within [-2, 2] and 9 elements [-2.  -1.5 -1.  -0.5  0.   0.5  1.   1.5  2. ]\n",
      "\n",
      "\n",
      "array within [0, 2π] and 100 elements: \n",
      " [0.         0.06346652 0.12693304 0.19039955 0.25386607 0.31733259\n",
      " 0.38079911 0.44426563 0.50773215 0.57119866 0.63466518 0.6981317\n",
      " 0.76159822 0.82506474 0.88853126 0.95199777 1.01546429 1.07893081\n",
      " 1.14239733 1.20586385 1.26933037 1.33279688 1.3962634  1.45972992\n",
      " 1.52319644 1.58666296 1.65012947 1.71359599 1.77706251 1.84052903\n",
      " 1.90399555 1.96746207 2.03092858 2.0943951  2.15786162 2.22132814\n",
      " 2.28479466 2.34826118 2.41172769 2.47519421 2.53866073 2.60212725\n",
      " 2.66559377 2.72906028 2.7925268  2.85599332 2.91945984 2.98292636\n",
      " 3.04639288 3.10985939 3.17332591 3.23679243 3.30025895 3.36372547\n",
      " 3.42719199 3.4906585  3.55412502 3.61759154 3.68105806 3.74452458\n",
      " 3.8079911  3.87145761 3.93492413 3.99839065 4.06185717 4.12532369\n",
      " 4.1887902  4.25225672 4.31572324 4.37918976 4.44265628 4.5061228\n",
      " 4.56958931 4.63305583 4.69652235 4.75998887 4.82345539 4.88692191\n",
      " 4.95038842 5.01385494 5.07732146 5.14078798 5.2042545  5.26772102\n",
      " 5.33118753 5.39465405 5.45812057 5.52158709 5.58505361 5.64852012\n",
      " 5.71198664 5.77545316 5.83891968 5.9023862  5.96585272 6.02931923\n",
      " 6.09278575 6.15625227 6.21971879 6.28318531]\n",
      "\n",
      "\n",
      "the sine of x list: \n",
      " [ 0.00000000e+00  6.34239197e-02  1.26592454e-01  1.89251244e-01\n",
      "  2.51147987e-01  3.12033446e-01  3.71662456e-01  4.29794912e-01\n",
      "  4.86196736e-01  5.40640817e-01  5.92907929e-01  6.42787610e-01\n",
      "  6.90079011e-01  7.34591709e-01  7.76146464e-01  8.14575952e-01\n",
      "  8.49725430e-01  8.81453363e-01  9.09631995e-01  9.34147860e-01\n",
      "  9.54902241e-01  9.71811568e-01  9.84807753e-01  9.93838464e-01\n",
      "  9.98867339e-01  9.99874128e-01  9.96854776e-01  9.89821442e-01\n",
      "  9.78802446e-01  9.63842159e-01  9.45000819e-01  9.22354294e-01\n",
      "  8.95993774e-01  8.66025404e-01  8.32569855e-01  7.95761841e-01\n",
      "  7.55749574e-01  7.12694171e-01  6.66769001e-01  6.18158986e-01\n",
      "  5.67059864e-01  5.13677392e-01  4.58226522e-01  4.00930535e-01\n",
      "  3.42020143e-01  2.81732557e-01  2.20310533e-01  1.58001396e-01\n",
      "  9.50560433e-02  3.17279335e-02 -3.17279335e-02 -9.50560433e-02\n",
      " -1.58001396e-01 -2.20310533e-01 -2.81732557e-01 -3.42020143e-01\n",
      " -4.00930535e-01 -4.58226522e-01 -5.13677392e-01 -5.67059864e-01\n",
      " -6.18158986e-01 -6.66769001e-01 -7.12694171e-01 -7.55749574e-01\n",
      " -7.95761841e-01 -8.32569855e-01 -8.66025404e-01 -8.95993774e-01\n",
      " -9.22354294e-01 -9.45000819e-01 -9.63842159e-01 -9.78802446e-01\n",
      " -9.89821442e-01 -9.96854776e-01 -9.99874128e-01 -9.98867339e-01\n",
      " -9.93838464e-01 -9.84807753e-01 -9.71811568e-01 -9.54902241e-01\n",
      " -9.34147860e-01 -9.09631995e-01 -8.81453363e-01 -8.49725430e-01\n",
      " -8.14575952e-01 -7.76146464e-01 -7.34591709e-01 -6.90079011e-01\n",
      " -6.42787610e-01 -5.92907929e-01 -5.40640817e-01 -4.86196736e-01\n",
      " -4.29794912e-01 -3.71662456e-01 -3.12033446e-01 -2.51147987e-01\n",
      " -1.89251244e-01 -1.26592454e-01 -6.34239197e-02 -2.44929360e-16]\n",
      "Plot the result: \n",
      " [<matplotlib.lines.Line2D object at 0x7fd5be8cf310>]\n"
     ]
    },
    {
     "data": {
      "image/png": "[encoded data removed]",
      "text/plain": [
       "<Figure size 432x288 with 1 Axes>"
      ]
     },
     "metadata": {
      "needs_background": "light"
     },
     "output_type": "display_data"
    }
   ],
   "source": [
    "# Makeup a numpy array within [-2, 2] and 5 elements\n",
    "\n",
    "print ('array within [-2, 2] and 5 elements :',np.linspace(-2, 2, num=5))\n",
    "\n",
    "print('\\n')\n",
    "\n",
    "\n",
    "# Makeup a numpy array within [-2, 2] and 9 elements\n",
    "\n",
    "print('array within [-2, 2] and 9 elements',np.linspace(-2, 2, num=9))\n",
    "print('\\n')\n",
    "\n",
    "\n",
    "# Makeup a numpy array within [0, 2π] and 100 elements \n",
    "\n",
    "x = np.linspace(0, 2*np.pi, num=100)\n",
    "print('array within [0, 2π] and 100 elements: \\n',x)\n",
    "print('\\n')\n",
    "\n",
    "\n",
    "# Calculate the sine of x list\n",
    "\n",
    "y = np.sin(x)\n",
    "print('the sine of x list: \\n',y)\n",
    "\n",
    "\n",
    "# Plot the result\n",
    "\n",
    "print('Plot the result: \\n',plt.plot(x, y))"
   ]
  },
  {
   "cell_type": "markdown",
   "metadata": {},
   "source": [
    "#"
   ]
  },
  {
   "cell_type": "markdown",
   "metadata": {},
   "source": [
    "-------"
   ]
  },
  {
   "cell_type": "markdown",
   "metadata": {},
   "source": [
    "# Quiz on 1D Numpy Array"
   ]
  },
  {
   "cell_type": "code",
   "execution_count": 109,
   "metadata": {},
   "outputs": [
    {
     "name": "stdout",
     "output_type": "stream",
     "text": [
      "the subtraction of u-v is: [ 1 -1]\n"
     ]
    }
   ],
   "source": [
    "# Implement the following vector subtraction in numpy: u-v\n",
    "\n",
    "u = np.array([1, 0])\n",
    "v = np.array([0, 1])\n",
    "\n",
    "\n",
    "z = u-v\n",
    "\n",
    "print('the subtraction of u-v is:',z)"
   ]
  },
  {
   "cell_type": "code",
   "execution_count": 111,
   "metadata": {},
   "outputs": [
    {
     "name": "stdout",
     "output_type": "stream",
     "text": [
      "the numpy array z with -2 : [4 8]\n"
     ]
    }
   ],
   "source": [
    "#Multiply the numpy array z with -2:\n",
    "z = np.array([2, 4])\n",
    "\n",
    "m = z*2\n",
    "print('the numpy array z with -2 :',m)"
   ]
  },
  {
   "cell_type": "code",
   "execution_count": 114,
   "metadata": {},
   "outputs": [
    {
     "name": "stdout",
     "output_type": "stream",
     "text": [
      "u * v is: [1 0 3 0 5]\n"
     ]
    }
   ],
   "source": [
    "#Consider the list [1, 2, 3, 4, 5] and [1, 0, 1, 0, 1],\n",
    "#and cast both lists to a numpy array then multiply them together:\n",
    "\n",
    "\n",
    "u = np.array([1, 2, 3, 4, 5])\n",
    "v = np.array([1, 0, 1, 0, 1])\n",
    "\n",
    "z = u*v\n",
    "\n",
    "print('u * v is:',z)"
   ]
  },
  {
   "cell_type": "code",
   "execution_count": 131,
   "metadata": {},
   "outputs": [
    {
     "name": "stdout",
     "output_type": "stream",
     "text": [
      "The dot product is : 0\n",
      "\n",
      "\n",
      "Plot the arrays as vectors:\n",
      "\n",
      "\n"
     ]
    },
    {
     "data": {
      "image/png": "[encoded data removed]",
      "text/plain": [
       "<Figure size 432x288 with 1 Axes>"
      ]
     },
     "metadata": {
      "needs_background": "light"
     },
     "output_type": "display_data"
    }
   ],
   "source": [
    "#Convert the list [-1, 1] and [1, 1] to numpy arrays a and b. Then,\n",
    "#plot the arrays as vectors using the fuction Plotvec2 ,and find the dot product\n",
    "\n",
    "a = np.array([-1, 1])\n",
    "b = np.array([1, 1])\n",
    "\n",
    "print('The dot product is :',np.dot(a,b))\n",
    "print('\\n')\n",
    "\n",
    "print('Plot the arrays as vectors:')\n",
    "print('\\n')\n",
    "\n",
    "\n",
    "Plotvec2(a,b)\n"
   ]
  },
  {
   "cell_type": "code",
   "execution_count": 132,
   "metadata": {},
   "outputs": [
    {
     "name": "stdout",
     "output_type": "stream",
     "text": [
      "The dot product is : 1\n",
      "\n",
      "\n",
      "Plot the arrays as vectors:\n",
      "\n",
      "\n"
     ]
    },
    {
     "data": {
      "image/png": "[encoded data removed]",
      "text/plain": [
       "<Figure size 432x288 with 1 Axes>"
      ]
     },
     "metadata": {
      "needs_background": "light"
     },
     "output_type": "display_data"
    }
   ],
   "source": [
    "#Convert the list [1, 1] and [0, 1] to numpy arrays a and b.\n",
    "# Then plot the arrays as vectors using the fuction Plotvec2 and find the dot product:\n",
    "\n",
    "a = np.array([1, 1])\n",
    "b = np.array([0, 1])\n",
    "\n",
    "print('The dot product is :',np.dot(a,b))\n",
    "print('\\n')\n",
    "\n",
    "print('Plot the arrays as vectors:')\n",
    "print('\\n')\n",
    "\n",
    "\n",
    "Plotvec2(a,b)\n",
    "\n",
    "\n"
   ]
  },
  {
   "cell_type": "markdown",
   "metadata": {},
   "source": [
    "# Why are the results of the dot product for [-1, 1] and [1, 1] and the dot product for [1, 0] and [0, 1] zero,but not zero for the dot product for [1, 1] and [0, 1]?\n",
    "\n",
    "\n",
    "\n",
    "The vectors used for question 4 and 5 are perpendicular. As a result, the dot product is zero. \n"
   ]
  },
  {
   "cell_type": "markdown",
   "metadata": {},
   "source": [
    "#"
   ]
  },
  {
   "cell_type": "markdown",
   "metadata": {},
   "source": [
    "#"
   ]
  },
  {
   "cell_type": "markdown",
   "metadata": {},
   "source": [
    "# -----------------------  ALL DONE ^_^  ---------------------"
   ]
  }
 ],
 "metadata": {
  "kernelspec": {
   "display_name": "Python 3",
   "language": "python",
   "name": "python3"
  },
  "language_info": {
   "codemirror_mode": {
    "name": "ipython",
    "version": 3
   },
   "file_extension": ".py",
   "mimetype": "text/x-python",
   "name": "python",
   "nbconvert_exporter": "python",
   "pygments_lexer": "ipython3",
   "version": "3.7.6"
  }
 },
 "nbformat": 4,
 "nbformat_minor": 4
}

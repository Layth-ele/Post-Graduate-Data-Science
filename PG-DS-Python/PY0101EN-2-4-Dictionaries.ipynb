{
 "cells": [
  {
   "cell_type": "code",
   "execution_count": 1,
   "metadata": {},
   "outputs": [],
   "source": [
    "#Dictionaries in Python"
   ]
  },
  {
   "cell_type": "markdown",
   "metadata": {},
   "source": [
    "-------"
   ]
  },
  {
   "cell_type": "code",
   "execution_count": 5,
   "metadata": {},
   "outputs": [
    {
     "name": "stdout",
     "output_type": "stream",
     "text": [
      "{'key1': 1, 'key2': '2', 'key3': [3, 3, 3], 'key4': (4, 4, 4), 'key5': 5, (0, 1): 6}\n",
      "1\n",
      "6\n"
     ]
    }
   ],
   "source": [
    "# Create the dictionary\n",
    "\n",
    "Dict = {\"key1\": 1, \"key2\": \"2\", \"key3\": [3, 3, 3], \"key4\": (4, 4, 4), ('key5'): 5, (0, 1): 6}\n",
    "print(Dict)\n",
    "\n",
    "# Access to the value by the key\n",
    "\n",
    "print(Dict[\"key1\"])\n",
    "\n",
    "# Access to the value by the key\n",
    "\n",
    "print(Dict[(0, 1)])"
   ]
  },
  {
   "cell_type": "code",
   "execution_count": 9,
   "metadata": {},
   "outputs": [
    {
     "name": "stdout",
     "output_type": "stream",
     "text": [
      "{'Thriller': '1982', 'Back in Black': '1980', 'The Dark Side of the Moon': '1973', 'The Bodyguard': '1992', 'Bat Out of Hell': '1977', 'Their Greatest Hits (1971-1975)': '1976', 'Saturday Night Fever': '1977', 'Rumours': '1977'}\n",
      "1982\n",
      "1992\n"
     ]
    }
   ],
   "source": [
    "# Create a sample dictionary\n",
    "\n",
    "release_year_dict = {\"Thriller\": \"1982\", \"Back in Black\": \"1980\", \\\n",
    "                    \"The Dark Side of the Moon\": \"1973\", \"The Bodyguard\": \"1992\", \\\n",
    "                    \"Bat Out of Hell\": \"1977\", \"Their Greatest Hits (1971-1975)\": \"1976\", \\\n",
    "                    \"Saturday Night Fever\": \"1977\", \"Rumours\": \"1977\"}\n",
    "print(release_year_dict)\n",
    "\n",
    "# Get value by keys\n",
    "\n",
    "print(release_year_dict['Thriller'])\n",
    "\n",
    "# Get value by key\n",
    "\n",
    "print(release_year_dict['The Bodyguard'])"
   ]
  },
  {
   "cell_type": "code",
   "execution_count": 15,
   "metadata": {},
   "outputs": [
    {
     "name": "stdout",
     "output_type": "stream",
     "text": [
      "dict_keys(['Thriller', 'Back in Black', 'The Dark Side of the Moon', 'The Bodyguard', 'Bat Out of Hell', 'Their Greatest Hits (1971-1975)', 'Saturday Night Fever', 'Rumours'])\n",
      "dict_values(['1982', '1980', '1973', '1992', '1977', '1976', '1977', '1977'])\n"
     ]
    }
   ],
   "source": [
    "# Get all the keys in dictionary\n",
    "\n",
    "print(release_year_dict.keys())\n",
    "\n",
    "# Get all the values in dictionary\n",
    "\n",
    "print(release_year_dict.values())\n"
   ]
  },
  {
   "cell_type": "code",
   "execution_count": 17,
   "metadata": {},
   "outputs": [
    {
     "name": "stdout",
     "output_type": "stream",
     "text": [
      "{'Thriller': '1982', 'Back in Black': '1980', 'The Dark Side of the Moon': '1973', 'The Bodyguard': '1992', 'Bat Out of Hell': '1977', 'Their Greatest Hits (1971-1975)': '1976', 'Saturday Night Fever': '1977', 'Rumours': '1977', 'Graduation': '2007'}\n",
      "{'Back in Black': '1980', 'The Dark Side of the Moon': '1973', 'The Bodyguard': '1992', 'Bat Out of Hell': '1977', 'Their Greatest Hits (1971-1975)': '1976', 'Saturday Night Fever': '1977', 'Rumours': '1977'}\n"
     ]
    }
   ],
   "source": [
    "# Append value with key into dictionary\n",
    "\n",
    "release_year_dict['Graduation'] = '2007'\n",
    "print(release_year_dict)\n",
    "\n",
    "# Delete entries by key\n",
    "\n",
    "del(release_year_dict['Thriller'])\n",
    "del(release_year_dict['Graduation'])\n",
    "print(release_year_dict)"
   ]
  },
  {
   "cell_type": "code",
   "execution_count": 19,
   "metadata": {},
   "outputs": [
    {
     "name": "stdout",
     "output_type": "stream",
     "text": [
      "The Bodyguard' in release_year_dict !:  True\n"
     ]
    }
   ],
   "source": [
    "# Verify the key is in the dictionary\n",
    "\n",
    "print(\"The Bodyguard' in release_year_dict !: \" ,'The Bodyguard' in release_year_dict)"
   ]
  },
  {
   "cell_type": "markdown",
   "metadata": {},
   "source": [
    "----"
   ]
  },
  {
   "cell_type": "markdown",
   "metadata": {},
   "source": [
    "------"
   ]
  },
  {
   "cell_type": "markdown",
   "metadata": {},
   "source": [
    "-------"
   ]
  },
  {
   "cell_type": "code",
   "execution_count": 20,
   "metadata": {},
   "outputs": [],
   "source": [
    "#Quiz on Dictionaries"
   ]
  },
  {
   "cell_type": "code",
   "execution_count": 21,
   "metadata": {},
   "outputs": [
    {
     "name": "stdout",
     "output_type": "stream",
     "text": [
      "{'The Bodyguard': '1992', 'Saturday Night Fever': '1977'}\n"
     ]
    }
   ],
   "source": [
    "# Question sample dictionary\n",
    "\n",
    "soundtrack_dic = {\"The Bodyguard\":\"1992\", \"Saturday Night Fever\":\"1977\"}\n",
    "print(soundtrack_dic)"
   ]
  },
  {
   "cell_type": "code",
   "execution_count": 25,
   "metadata": {},
   "outputs": [
    {
     "name": "stdout",
     "output_type": "stream",
     "text": [
      "The keys is : dict_keys(['The Bodyguard', 'Saturday Night Fever'])\n",
      "The values is : dict_values(['1992', '1977'])\n"
     ]
    }
   ],
   "source": [
    "#a) In the dictionary soundtrack_dict what are the keys ?\n",
    "\n",
    "keys = soundtrack_dic.keys()\n",
    "\n",
    "print(\"The keys is :\" , keys)\n",
    "\n",
    "#b) In the dictionary soundtrack_dict what are the values ?\n",
    "\n",
    "values = soundtrack_dic.values()\n",
    "\n",
    "print(\"The values is :\" , values)\n"
   ]
  },
  {
   "cell_type": "code",
   "execution_count": 36,
   "metadata": {},
   "outputs": [
    {
     "name": "stdout",
     "output_type": "stream",
     "text": [
      "{'The Bodyguard': 50, 'Back in Black': 50, 'Thriller': 65}\n",
      "total sales of Thriller is : 65 Millions\n",
      "the names of the albums is :  dict_keys(['The Bodyguard', 'Back in Black', 'Thriller'])\n",
      "the names of the recording sales is :  dict_values([50, 50, 65])\n"
     ]
    }
   ],
   "source": [
    "#The Albums Back in Black, The Bodyguard and Thriller have the following music recording sales in millions 50, 50 and 65 respectively:\n",
    "\n",
    "#a) Create a dictionary album_sales_dict where the keys are the album name and the sales in millions are the values.\n",
    "\n",
    "album_sales_dict = {\"The Bodyguard\":50, \"Back in Black\":50, \"Thriller\":65}\n",
    "print(album_sales_dict)\n",
    "\n",
    "\n",
    "#b) Use the dictionary to find the total sales of Thriller:\n",
    "\n",
    "\n",
    "total_thriller_sale = album_sales_dict[\"Thriller\"]\n",
    "print('total sales of Thriller is :' ,total_thriller_sale,'Millions')\n",
    "\n",
    "\n",
    "#c) Find the names of the albums from the dictionary using the method keys:\n",
    "    \n",
    "albums_names = album_sales_dict.keys()\n",
    "\n",
    "print('the names of the albums is : ',albums_names)\n",
    "\n",
    "\n",
    "#d) Find the names of the recording sales from the dictionary using the method values:\n",
    "\n",
    "recording_sales = album_sales_dict.values()\n",
    "\n",
    "print('the names of the recording sales is : ',recording_sales)\n",
    "\n",
    "\n"
   ]
  },
  {
   "cell_type": "markdown",
   "metadata": {},
   "source": [
    "-----"
   ]
  },
  {
   "cell_type": "markdown",
   "metadata": {},
   "source": [
    "------"
   ]
  },
  {
   "cell_type": "markdown",
   "metadata": {},
   "source": [
    "-------"
   ]
  },
  {
   "cell_type": "markdown",
   "metadata": {},
   "source": [
    "---------------------------------------------------ALL DONE ^_^--------------------------------------------------------"
   ]
  }
 ],
 "metadata": {
  "kernelspec": {
   "display_name": "Python 3",
   "language": "python",
   "name": "python3"
  },
  "language_info": {
   "codemirror_mode": {
    "name": "ipython",
    "version": 3
   },
   "file_extension": ".py",
   "mimetype": "text/x-python",
   "name": "python",
   "nbconvert_exporter": "python",
   "pygments_lexer": "ipython3",
   "version": "3.7.6"
  }
 },
 "nbformat": 4,
 "nbformat_minor": 4
}

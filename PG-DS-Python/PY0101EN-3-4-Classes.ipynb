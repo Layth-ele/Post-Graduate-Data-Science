{
 "cells": [
  {
   "cell_type": "code",
   "execution_count": 1,
   "metadata": {},
   "outputs": [],
   "source": [
    "#Classes and Objects in Python"
   ]
  },
  {
   "cell_type": "markdown",
   "metadata": {},
   "source": [
    "-----"
   ]
  },
  {
   "cell_type": "code",
   "execution_count": 2,
   "metadata": {},
   "outputs": [],
   "source": [
    "# Import the library\n",
    "\n",
    "import matplotlib.pyplot as plt\n",
    "%matplotlib inline  "
   ]
  },
  {
   "cell_type": "code",
   "execution_count": 23,
   "metadata": {},
   "outputs": [
    {
     "name": "stdout",
     "output_type": "stream",
     "text": [
      "['__class__', '__delattr__', '__dict__', '__dir__', '__doc__', '__eq__', '__format__', '__ge__', '__getattribute__', '__gt__', '__hash__', '__init__', '__init_subclass__', '__le__', '__lt__', '__module__', '__ne__', '__new__', '__reduce__', '__reduce_ex__', '__repr__', '__setattr__', '__sizeof__', '__str__', '__subclasshook__', '__weakref__', 'add_radius', 'color', 'drawCircle', 'radius']\n",
      "\n",
      "\n",
      "the object attribute radius :  10\n",
      "\n",
      "\n",
      "the object attribute color :  red\n",
      "\n",
      "\n",
      "the object new attribute radius set to :  1\n",
      "\n",
      "\n"
     ]
    },
    {
     "data": {
      "image/png": "[encoded data removed]",
      "text/plain": [
       "<Figure size 432x288 with 1 Axes>"
      ]
     },
     "metadata": {
      "needs_background": "light"
     },
     "output_type": "display_data"
    }
   ],
   "source": [
    "# Create a class Circle\n",
    "\n",
    "class Circle(object):\n",
    "    \n",
    "    # Constructor\n",
    "    def __init__(self, radius=3, color='blue'):\n",
    "        self.radius = radius\n",
    "        self.color = color \n",
    "    \n",
    "    # Method\n",
    "    def add_radius(self, r):\n",
    "        self.radius = self.radius + r\n",
    "        return(self.radius)\n",
    "    \n",
    "    # Method\n",
    "    def drawCircle(self):\n",
    "        plt.gca().add_patch(plt.Circle((0, 0), radius=self.radius, fc=self.color))\n",
    "        plt.axis('scaled')\n",
    "        plt.show() \n",
    "        \n",
    "# Create an object RedCircle\n",
    "\n",
    "RedCircle = Circle(10, 'red')\n",
    "# Find out the methods can be used on the object RedCircle\n",
    "\n",
    "print(dir(RedCircle))\n",
    "print('\\n')\n",
    "# Print the object attribute radius\n",
    "\n",
    "print('the object attribute radius : ',RedCircle.radius)\n",
    "print('\\n')\n",
    "\n",
    "# Print the object attribute color\n",
    "\n",
    "print('the object attribute color : ',RedCircle.color)\n",
    "print('\\n')\n",
    "\n",
    "# Set the object attribute radius\n",
    "\n",
    "RedCircle.radius = 1\n",
    "print('the object new attribute radius set to : ',RedCircle.radius)\n",
    "print('\\n')\n",
    "\n",
    "# Call the method drawCircle\n",
    "\n",
    "RedCircle.drawCircle()\n",
    "\n"
   ]
  },
  {
   "cell_type": "code",
   "execution_count": 34,
   "metadata": {},
   "outputs": [
    {
     "name": "stdout",
     "output_type": "stream",
     "text": [
      "Radius of object: 71\n",
      "Radius of object of after applying the method add_radius(2): 73\n",
      "Radius of object of after applying the method add_radius(5): 78\n",
      "\n",
      "\n",
      "the object attribute radius :  100\n",
      "\n",
      "\n",
      "the object attribute color :  blue\n",
      "\n",
      "\n"
     ]
    },
    {
     "data": {
      "image/png": "[encoded data removed]",
      "text/plain": [
       "<Figure size 432x288 with 1 Axes>"
      ]
     },
     "metadata": {
      "needs_background": "light"
     },
     "output_type": "display_data"
    }
   ],
   "source": [
    "# Use method to change the object attribute radius\n",
    "\n",
    "print('Radius of object:',RedCircle.radius)\n",
    "RedCircle.add_radius(2)\n",
    "print('Radius of object of after applying the method add_radius(2):',RedCircle.radius)\n",
    "RedCircle.add_radius(5)\n",
    "print('Radius of object of after applying the method add_radius(5):',RedCircle.radius)\n",
    "print('\\n')\n",
    "\n",
    "# Create a blue circle with a given radius\n",
    "\n",
    "BlueCircle = Circle(radius=100)\n",
    "\n",
    "# Print the object attribute radius\n",
    "\n",
    "print('the object attribute radius : ', BlueCircle.radius)\n",
    "print('\\n')\n",
    "\n",
    "# Print the object attribute color\n",
    "print('the object attribute color : ', BlueCircle.color)\n",
    "print('\\n')\n",
    "\n",
    "# Call the method drawCircle\n",
    "\n",
    "BlueCircle.drawCircle()\n",
    "\n"
   ]
  },
  {
   "cell_type": "code",
   "execution_count": 47,
   "metadata": {},
   "outputs": [
    {
     "name": "stdout",
     "output_type": "stream",
     "text": [
      "the object attribute height :  10\n",
      "\n",
      "\n",
      "the object attribute width :  2\n",
      "\n",
      "\n",
      "the object attribute color :  blue\n",
      "\n",
      "\n"
     ]
    },
    {
     "data": {
      "image/png": "[encoded data removed]",
      "text/plain": [
       "<Figure size 432x288 with 1 Axes>"
      ]
     },
     "metadata": {
      "needs_background": "light"
     },
     "output_type": "display_data"
    },
    {
     "name": "stdout",
     "output_type": "stream",
     "text": [
      "\n",
      "\n",
      "the object attribute height :  5\n",
      "\n",
      "\n",
      "the object attribute width :  20\n",
      "\n",
      "\n",
      "the object attribute color :  yellow\n",
      "\n",
      "\n"
     ]
    },
    {
     "data": {
      "image/png": "[encoded data removed]",
      "text/plain": [
       "<Figure size 432x288 with 1 Axes>"
      ]
     },
     "metadata": {
      "needs_background": "light"
     },
     "output_type": "display_data"
    }
   ],
   "source": [
    "#The Rectangle Class\n",
    "\n",
    "# Create a new Rectangle class for creating a rectangle object\n",
    "\n",
    "class Rectangle(object):\n",
    "    \n",
    "    # Constructor\n",
    "    def __init__(self, width=2, height=3, color='r'):\n",
    "        self.height = height \n",
    "        self.width = width\n",
    "        self.color = color\n",
    "    \n",
    "    # Method\n",
    "    def drawRectangle(self):\n",
    "        plt.gca().add_patch(plt.Rectangle((0, 0), self.width, self.height ,fc=self.color))\n",
    "        plt.axis('scaled')\n",
    "        plt.show()\n",
    "        \n",
    "# Create a new object rectangle\n",
    "\n",
    "SkinnyBlueRectangle = Rectangle(2, 10, 'blue')\n",
    "\n",
    "# Print the object attribute height\n",
    "\n",
    "print('the object attribute height : ', SkinnyBlueRectangle.height)\n",
    "print('\\n')\n",
    "\n",
    "# Print the object attribute width\n",
    "\n",
    "print('the object attribute width : ', SkinnyBlueRectangle.width)\n",
    "print('\\n')\n",
    "\n",
    "\n",
    "# Print the object attribute color\n",
    "\n",
    "print('the object attribute color : ', SkinnyBlueRectangle.color)\n",
    "print('\\n')\n",
    "\n",
    "\n",
    "# Use the drawRectangle method to draw the shape\n",
    "\n",
    "SkinnyBlueRectangle.drawRectangle()\n",
    "\n",
    "# Create a new object rectangle\n",
    "\n",
    "FatYellowRectangle = Rectangle(20, 5, 'yellow')\n",
    "print('\\n')\n",
    "\n",
    "\n",
    "# Print the object attribute height\n",
    "\n",
    "print('the object attribute height : ',FatYellowRectangle.height )\n",
    "print('\\n')\n",
    "\n",
    "\n",
    "# Print the object attribute width\n",
    "\n",
    "print('the object attribute width : ',FatYellowRectangle.width)\n",
    "print('\\n')\n",
    "\n",
    "# Print the object attribute color\n",
    "\n",
    "print('the object attribute color : ',FatYellowRectangle.color)\n",
    "print('\\n')\n",
    "\n",
    "\n",
    "# Use the drawRectangle method to draw the shape\n",
    "\n",
    "FatYellowRectangle.drawRectangle()\n"
   ]
  },
  {
   "cell_type": "markdown",
   "metadata": {},
   "source": [
    "------"
   ]
  },
  {
   "cell_type": "markdown",
   "metadata": {},
   "source": [
    "------"
   ]
  },
  {
   "cell_type": "markdown",
   "metadata": {},
   "source": [
    "---------------------------------------------------ALL DONE ^_^--------------------------------------------------------"
   ]
  }
 ],
 "metadata": {
  "kernelspec": {
   "display_name": "Python 3",
   "language": "python",
   "name": "python3"
  },
  "language_info": {
   "codemirror_mode": {
    "name": "ipython",
    "version": 3
   },
   "file_extension": ".py",
   "mimetype": "text/x-python",
   "name": "python",
   "nbconvert_exporter": "python",
   "pygments_lexer": "ipython3",
   "version": "3.7.6"
  }
 },
 "nbformat": 4,
 "nbformat_minor": 4
}

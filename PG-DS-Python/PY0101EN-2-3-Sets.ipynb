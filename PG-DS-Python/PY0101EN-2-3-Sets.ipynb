{
 "cells": [
  {
   "cell_type": "code",
   "execution_count": 1,
   "metadata": {},
   "outputs": [],
   "source": [
    "#Sets in Python"
   ]
  },
  {
   "cell_type": "markdown",
   "metadata": {},
   "source": [
    "------"
   ]
  },
  {
   "cell_type": "code",
   "execution_count": 9,
   "metadata": {},
   "outputs": [
    {
     "name": "stdout",
     "output_type": "stream",
     "text": [
      "{'pop', 'R&B', 'soul', 'hard rock', 'rock', 'disco'}\n",
      "{65, 'Michael Jackson', '00:42:19', 'Pop, Rock, R&B', 10.0, 46.0, '30-Nov-82', None, 'Thriller', 1982}\n",
      "{'pop', 'soft rock', 'R&B', 'soul', 'progressive rock', 'hard rock', 'rock', 'disco', 'folk rock'}\n"
     ]
    }
   ],
   "source": [
    "# Create a set\n",
    "\n",
    "set1 = {\"pop\", \"rock\", \"soul\", \"hard rock\", \"rock\", \"R&B\", \"rock\", \"disco\"}\n",
    "print(set1)\n",
    "\n",
    "\n",
    "# Convert list to set\n",
    "\n",
    "album_list = [ \"Michael Jackson\", \"Thriller\", 1982, \"00:42:19\", \\\n",
    "              \"Pop, Rock, R&B\", 46.0, 65, \"30-Nov-82\", None, 10.0]\n",
    "album_set = set(album_list)             \n",
    "print(album_set)\n",
    "\n",
    "\n",
    "\n",
    "# Convert list to set\n",
    "\n",
    "music_genres = set([\"pop\", \"pop\", \"rock\", \"folk rock\", \"hard rock\", \"soul\", \\\n",
    "                    \"progressive rock\", \"soft rock\", \"R&B\", \"disco\"])\n",
    "print(music_genres)"
   ]
  },
  {
   "cell_type": "code",
   "execution_count": 8,
   "metadata": {},
   "outputs": [],
   "source": [
    "#Set Operations"
   ]
  },
  {
   "cell_type": "code",
   "execution_count": 15,
   "metadata": {},
   "outputs": [
    {
     "name": "stdout",
     "output_type": "stream",
     "text": [
      "{'Back in Black', 'Thriller', 'AC/DC'}\n",
      "{'Back in Black', 'Thriller', 'NSYNC', 'AC/DC'}\n",
      "{'Back in Black', 'Thriller', 'NSYNC', 'AC/DC'}\n",
      "{'Back in Black', 'Thriller', 'AC/DC'}\n"
     ]
    },
    {
     "data": {
      "text/plain": [
       "True"
      ]
     },
     "execution_count": 15,
     "metadata": {},
     "output_type": "execute_result"
    }
   ],
   "source": [
    "# Sample set\n",
    "\n",
    "A = set([\"Thriller\", \"Back in Black\", \"AC/DC\"])\n",
    "print(A)\n",
    "\n",
    "\n",
    "# Add element to set\n",
    "\n",
    "A.add(\"NSYNC\")\n",
    "print(A)\n",
    "\n",
    "\n",
    "# Try to add duplicate element to the set\n",
    "\n",
    "A.add(\"NSYNC\")\n",
    "print(A)\n",
    "\n",
    "\n",
    "# Remove the element from set\n",
    "\n",
    "A.remove(\"NSYNC\")\n",
    "print(A)\n",
    "\n",
    "\n",
    "# Verify if the element is in the set\n",
    "\n",
    "\"AC/DC\" in A"
   ]
  },
  {
   "cell_type": "code",
   "execution_count": 16,
   "metadata": {},
   "outputs": [],
   "source": [
    "#Sets Logic Operations"
   ]
  },
  {
   "cell_type": "code",
   "execution_count": 32,
   "metadata": {},
   "outputs": [
    {
     "name": "stdout",
     "output_type": "stream",
     "text": [
      "{'Back in Black', 'Thriller', 'AC/DC'}\n",
      "{'Back in Black', 'AC/DC', 'The Dark Side of the Moon'}\n",
      "{'Back in Black', 'AC/DC'}\n",
      "{'Thriller'}\n",
      "{'The Dark Side of the Moon'}\n",
      "{'Back in Black', 'AC/DC'}\n",
      "{'The Dark Side of the Moon', 'AC/DC', 'Back in Black', 'Thriller'}\n",
      "False\n",
      "False\n",
      "True\n",
      "True\n"
     ]
    }
   ],
   "source": [
    "# Sample Sets\n",
    "\n",
    "album_set1 = set([\"Thriller\", 'AC/DC', 'Back in Black'])\n",
    "album_set2 = set([ \"AC/DC\", \"Back in Black\", \"The Dark Side of the Moon\"])\n",
    "\n",
    "\n",
    "# Print two sets\n",
    "\n",
    "print(album_set1)\n",
    "print(album_set2)\n",
    "\n",
    "\n",
    "# Find the intersections\n",
    "\n",
    "intersection = album_set1 & album_set2\n",
    "print(intersection)\n",
    "\n",
    "\n",
    "# Find the difference in set1 but not set2\n",
    "\n",
    "D1 = album_set1.difference(album_set2) \n",
    "\n",
    "print(D1)\n",
    "\n",
    "\n",
    "D2 =album_set2.difference(album_set1) \n",
    "\n",
    "print(D2)\n",
    "\n",
    "\n",
    "# Use intersection method to find the intersection of album_list1 and album_list2\n",
    "\n",
    "I = album_set1.intersection(album_set2)   \n",
    "\n",
    "print(I)\n",
    "\n",
    "\n",
    "\n",
    "# Find the union of two sets\n",
    "\n",
    "U = album_set1.union(album_set2)\n",
    "\n",
    "print(U)\n",
    "\n",
    "\n",
    "# Check if superset\n",
    "\n",
    "check1 = set(album_set1).issuperset(album_set2)   \n",
    "print(check1)\n",
    "\n",
    "# Check if subset\n",
    "\n",
    "check2 = set(album_set2).issubset(album_set1)     \n",
    "print(check2)\n",
    "\n",
    "\n",
    "# Check if subset\n",
    "\n",
    "check3 = set({\"Back in Black\", \"AC/DC\"}).issubset(album_set1) \n",
    "print(check3)\n",
    "\n",
    "\n",
    "# Check if superset\n",
    "\n",
    "check4 = album_set1.issuperset({\"Back in Black\", \"AC/DC\"}) \n",
    "print(check4)"
   ]
  },
  {
   "cell_type": "markdown",
   "metadata": {},
   "source": [
    "-----"
   ]
  },
  {
   "cell_type": "markdown",
   "metadata": {},
   "source": [
    "-----"
   ]
  },
  {
   "cell_type": "markdown",
   "metadata": {},
   "source": [
    "-----"
   ]
  },
  {
   "cell_type": "code",
   "execution_count": 33,
   "metadata": {},
   "outputs": [],
   "source": [
    "#Quiz on Sets"
   ]
  },
  {
   "cell_type": "code",
   "execution_count": 7,
   "metadata": {},
   "outputs": [
    {
     "name": "stdout",
     "output_type": "stream",
     "text": [
      "MY set is : {'house', 'electronic music', 'rap'}\n"
     ]
    }
   ],
   "source": [
    "#Convert the list ['rap','house','electronic music', 'rap'] to a set:\n",
    "\n",
    "my_list = {'rap','house','electronic music', 'rap'}\n",
    "my_set = set(my_list)\n",
    "print(\"MY set is :\" ,my_set)\n"
   ]
  },
  {
   "cell_type": "code",
   "execution_count": 19,
   "metadata": {},
   "outputs": [
    {
     "name": "stdout",
     "output_type": "stream",
     "text": [
      "does sum(A) = sum(B): False\n"
     ]
    }
   ],
   "source": [
    "#Consider the list A = [1, 2, 2, 1] and set B = set([1, 2, 2, 1]), does sum(A) = sum(B)\n",
    "\n",
    "A = [1, 2, 2, 1]\n",
    "B = set([1, 2, 2, 1])\n",
    "\n",
    "check = sum(A) == sum(B)\n",
    "\n",
    "print(\"does sum(A) = sum(B): \" + str(check))\n",
    "\n"
   ]
  },
  {
   "cell_type": "code",
   "execution_count": 23,
   "metadata": {},
   "outputs": [
    {
     "name": "stdout",
     "output_type": "stream",
     "text": [
      "{'Thriller', 'Back in Black', 'The Dark Side of the Moon', 'AC/DC'}\n",
      "Is album_set1 is a subset of album_set3 ! :  True\n"
     ]
    }
   ],
   "source": [
    "#Create a new set album_set3 that is the union of album_set1 and album_set2:\n",
    "\n",
    "album_set1 = set([\"Thriller\", 'AC/DC', 'Back in Black'])\n",
    "album_set2 = set([ \"AC/DC\", \"Back in Black\", \"The Dark Side of the Moon\"])\n",
    "\n",
    "album_set3 = album_set1.union(album_set2)\n",
    "\n",
    "print(album_set3)\n",
    "\n",
    "#Find out if album_set1 is a subset of album_set3:\n",
    "\n",
    "check1 = album_set1.issubset(album_set3)\n",
    "\n",
    "print(\"Is album_set1 is a subset of album_set3 ! : \" , check1)"
   ]
  },
  {
   "cell_type": "markdown",
   "metadata": {},
   "source": [
    "------"
   ]
  },
  {
   "cell_type": "markdown",
   "metadata": {},
   "source": [
    "---------"
   ]
  },
  {
   "cell_type": "markdown",
   "metadata": {},
   "source": [
    "---------------------------------------------------ALL DONE ^_^--------------------------------------------------------"
   ]
  }
 ],
 "metadata": {
  "kernelspec": {
   "display_name": "Python 3",
   "language": "python",
   "name": "python3"
  },
  "language_info": {
   "codemirror_mode": {
    "name": "ipython",
    "version": 3
   },
   "file_extension": ".py",
   "mimetype": "text/x-python",
   "name": "python",
   "nbconvert_exporter": "python",
   "pygments_lexer": "ipython3",
   "version": "3.7.6"
  }
 },
 "nbformat": 4,
 "nbformat_minor": 4
}

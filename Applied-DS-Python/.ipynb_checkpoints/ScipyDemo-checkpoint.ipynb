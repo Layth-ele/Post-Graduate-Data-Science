{
 "cells": [
  {
   "cell_type": "markdown",
   "id": "f558e26c-e9ef-46da-ac52-6ac1aabc2feb",
   "metadata": {},
   "source": [
    "# SCIPY TO SOLVE LINEAR ALGEBRA EQUATION"
   ]
  },
  {
   "cell_type": "markdown",
   "id": "d8a5309e-cbd7-434d-8a59-afb1b8ec49ee",
   "metadata": {},
   "source": [
    "# Problem statement\n",
    "\n",
    "<h3>find x & y : </h3>\n",
    "<ul>\n",
    "<li>(x+y=30</li>\n",
    "<li>(4x +9v=150)</li>\n",
    "</ul>\n"
   ]
  },
  {
   "cell_type": "code",
   "execution_count": 8,
   "id": "9e634bf6-a3a5-47e7-b553-0bade48063e8",
   "metadata": {
    "jp-MarkdownHeadingCollapsed": true,
    "tags": []
   },
   "outputs": [],
   "source": [
    "#Test has 30 questions and worth 150 marks\n",
    "#True and false questions worth 4 marks each\n",
    "#multiple choice questions worth 9 points each\n",
    "#let x is the number of true / false questions\n",
    "#Let y is the number of multiple choice questions\n",
    "#(x+y=30）\n",
    "#(4x +9v=156)"
   ]
  },
  {
   "cell_type": "code",
   "execution_count": 11,
   "id": "dd005ec9-0998-44b1-8729-e2d0a70bda25",
   "metadata": {},
   "outputs": [],
   "source": [
    "# Import necessary libraries\n",
    "\n",
    "import numpy as np\n",
    "from scipy import linalg "
   ]
  },
  {
   "cell_type": "code",
   "execution_count": 12,
   "id": "68c26ba3-24ec-4a1b-85bb-ff9f83e6a32c",
   "metadata": {},
   "outputs": [],
   "source": [
    "testQuestionVarianble = np.array([[1,1],[4,9]])\n",
    "testQuestionValue = np.array([30,150])"
   ]
  },
  {
   "cell_type": "code",
   "execution_count": 13,
   "id": "a9029c74-b70a-45ca-a2ad-7254c5eb0212",
   "metadata": {},
   "outputs": [
    {
     "data": {
      "text/plain": [
       "array([24.,  6.])"
      ]
     },
     "execution_count": 13,
     "metadata": {},
     "output_type": "execute_result"
    }
   ],
   "source": [
    "# Use linalg Fun of Scipy fo find x,y values\n",
    "\n",
    "linalg.solve(testQuestionVarianble,testQuestionValue)"
   ]
  }
 ],
 "metadata": {
  "kernelspec": {
   "display_name": "Python 3 (ipykernel)",
   "language": "python",
   "name": "python3"
  },
  "language_info": {
   "codemirror_mode": {
    "name": "ipython",
    "version": 3
   },
   "file_extension": ".py",
   "mimetype": "text/x-python",
   "name": "python",
   "nbconvert_exporter": "python",
   "pygments_lexer": "ipython3",
   "version": "3.9.12"
  }
 },
 "nbformat": 4,
 "nbformat_minor": 5
}
